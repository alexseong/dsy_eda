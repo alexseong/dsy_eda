{
 "cells": [
  {
   "cell_type": "markdown",
   "metadata": {},
   "source": [
    "# DATA VISUALIZATION WITH SEABORN\n",
    "\n",
    "Seaborn is a Python data visualization library with an emphasis on statistical plots. The library is an excellent resource for common regression and distribution plots, but where Seaborn really shines is in its ability to visualize many different features at once. It’s built to provide great visualizations and at the same time it makes developers’ life easier. Seaborn is built on top of Matplotlib and provides a high level API that makes “a well-defined set of hard things easy”, amongst other things by making that its methods work greatly by passing a minimal set of arguments.\n",
    "\n",
    "The `great visualization` comes from the built in themes, the possibility to build custom attractive color palettes, and the witty way they’re utilized to display statistical plots (e.g. the kernel density estimation in a violin plot). Seaborn is part of the PyData stack, and accepts Pandas’ data structures as inputs in its API."
   ]
  },
  {
   "cell_type": "code",
   "execution_count": null,
   "metadata": {
    "collapsed": true
   },
   "outputs": [],
   "source": [
    "import numpy as np\n",
    "import pandas as pd\n",
    "import seaborn as sns\n",
    "import timeit\n",
    "\n",
    "%matplotlib inline\n",
    "\n",
    "sns.set_style('darkgrid')"
   ]
  },
  {
   "cell_type": "markdown",
   "metadata": {},
   "source": [
    "## TYPE OF PLOTS\n",
    "\n",
    "1. **Distribution Plot (distplot)** - The first thing you want to see when exploring your data is the distribution of your variables. \n",
    "2. **FactorPlot / FacetGrid** - If we wanted to break down a plot by some categories, we needn’t perform boolean queries, nor groupbys, we can use FacetGrid.\n",
    "3. **[PairPlot](http://seaborn.pydata.org/generated/seaborn.pairplot.html) / [PairGrid](http://seaborn.pydata.org/generated/seaborn.PairGrid.html)** - Plot pairwise relationships in a dataset. This is a high-level interface for PairGrid that is intended to make it easy to draw a few common styles. You should use :class`PairGrid` directly if you need more flexibility.\n",
    "4. **JointPlot / JointGrid** - This method is used to display data points according to two variables, along with both their distributions, kernel density estimators, and an optional regression that fits the data. With “reg” we indicate that we want a regression fit to the data.\n",
    "5. **heatmap**: Heatmaps are ideal to plot “rectangular data” such as matrixes. They’re great to visualize when some values, or calculated values, such as averages, counts, etc. are more extreme."
   ]
  },
  {
   "cell_type": "markdown",
   "metadata": {},
   "source": [
    "## PART 1: CHARACTERISTICS OF TITANIC DATA\n",
    "\n",
    "### DISTRIBUTION PLOT (distplot)\n",
    "\n",
    "For example, let’s see the Titanic’s passengers’ ages distribution"
   ]
  },
  {
   "cell_type": "code",
   "execution_count": null,
   "metadata": {
    "collapsed": true
   },
   "outputs": [],
   "source": [
    "# Load dataset\n",
    "titanic = sns.load_dataset('titanic')"
   ]
  },
  {
   "cell_type": "code",
   "execution_count": null,
   "metadata": {
    "collapsed": false
   },
   "outputs": [],
   "source": [
    "sns.distplot(titanic.age.dropna())\n",
    "sns.plt.show()"
   ]
  },
  {
   "cell_type": "markdown",
   "metadata": {},
   "source": [
    "If we want to see the raw number of rows in each bin, we can pass kde=False (kernel density estimation = False)\n",
    "We need to drop NaN values for distplot not to raise a ValueError exception."
   ]
  },
  {
   "cell_type": "markdown",
   "metadata": {},
   "source": [
    "### FACETGRID (FacetGrid)"
   ]
  },
  {
   "cell_type": "code",
   "execution_count": null,
   "metadata": {
    "collapsed": false
   },
   "outputs": [],
   "source": [
    "g = sns.FacetGrid(titanic, row='survived', col='class')\n",
    "g.map(sns.distplot, \"age\")\n",
    "sns.plt.show()"
   ]
  },
  {
   "cell_type": "markdown",
   "metadata": {},
   "source": [
    "### JOINTPLOT (jointplot)\n",
    "\n",
    " - In the case of titanic dataset, although there appears to be a small tendency upwards shown by the regression, there appears to be almost no correlation between the variables “age” and “fare”, as shown by the Pearson correlation coefficient."
   ]
  },
  {
   "cell_type": "code",
   "execution_count": null,
   "metadata": {
    "collapsed": false
   },
   "outputs": [],
   "source": [
    "sns.jointplot(data=titanic, x='age', y='fare', kind='reg', color='g')\n",
    "sns.plt.show()"
   ]
  },
  {
   "cell_type": "markdown",
   "metadata": {},
   "source": [
    "- **heatmap**: Heatmaps are ideal to plot “rectangular data” such as matrixes. They’re great to visualize when some values, or calculated values, such as averages, counts, etc. are more extreme.\n",
    "\n",
    " - We can take the pt_titanic DataFrame from the pivot_table, which held data of the median fares paid by passengers per embark_town per age_group, and build a heatmap very easily. Most times, we like out heatmaps annotated to catch some subtelties that may pass by me with the colors. The “fmt” value is pretty straightforward."
   ]
  },
  {
   "cell_type": "code",
   "execution_count": null,
   "metadata": {
    "collapsed": true
   },
   "outputs": [],
   "source": [
    "bins = [0, 12, 17, 60, np.inf]\n",
    "labels = ['child', 'teenager', 'adult', 'elder']\n",
    "age_groups = pd.cut(titanic.age, bins, labels=labels)\n",
    "titanic['age_group'] = age_groups"
   ]
  },
  {
   "cell_type": "code",
   "execution_count": null,
   "metadata": {
    "collapsed": false
   },
   "outputs": [],
   "source": [
    "df = titanic.pivot_table(index='embark_town', columns='age_group', values='fare', aggfunc=np.median)"
   ]
  },
  {
   "cell_type": "code",
   "execution_count": null,
   "metadata": {
    "collapsed": false
   },
   "outputs": [],
   "source": [
    "import matplotlib.pyplot as plt\n",
    "plt.figure(figsize=(10, 5))\n",
    "sns.heatmap(df, annot=True, fmt=\".1f\")"
   ]
  },
  {
   "cell_type": "markdown",
   "metadata": {},
   "source": [
    "Finally, something really cool that you can put into a heatmap is a correlation matrix. Pandas DataFrame has a corr method that calculates Pearson’s (can be another) correlation coefficient between all couples of numeric columns of the DataFrame."
   ]
  },
  {
   "cell_type": "code",
   "execution_count": null,
   "metadata": {
    "collapsed": false
   },
   "outputs": [],
   "source": [
    "plt.figure(figsize=(10, 5))\n",
    "sns.heatmap(titanic.corr(), annot=True, fmt=\".2f\")"
   ]
  },
  {
   "cell_type": "markdown",
   "metadata": {},
   "source": [
    "## PART 2: CHARACTERISTICS OF AUTO MPG (Mile Per Gallon) DATA\n",
    "\n",
    "In this section, we'll cover three of Seaborn's most useful functions: factorplot, pairplot, and jointgrid. Going a step further, we'll show how we can get even more mileage out of these functions by stepping up to their even-more-powerful forms: **FacetGrid**, **PairGrid**, and **JointGrid**.\n",
    "\n",
    "We use the [UCI \"Auto MPG\"](https://archive.ics.uci.edu/ml/datasets/Auto+MPG) data set."
   ]
  },
  {
   "cell_type": "code",
   "execution_count": null,
   "metadata": {
    "collapsed": false
   },
   "outputs": [],
   "source": [
    "names = [\n",
    "        'mpg',\n",
    "        'cylinders',\n",
    "        'displacement',\n",
    "        'horsepower',\n",
    "        'weight',\n",
    "        'acceleration',\n",
    "        'model_year',\n",
    "        'origin',\n",
    "        'car_name'\n",
    "]\n",
    "df = pd.read_csv(\"../data/auto-mpg.data\", sep='\\s+', names=names)\n",
    "df['maker'] = df.car_name.map(lambda x: x.split()[0])\n",
    "df.origin = df.origin.map({1: 'America', 2: 'Europe', 3: 'Asia'})\n",
    "df=df.applymap(lambda x: np.nan if x == '?' else x).dropna()\n",
    "df['horsepower'] = df.horsepower.astype(float)\n",
    "df.head()"
   ]
  },
  {
   "cell_type": "markdown",
   "metadata": {},
   "source": [
    "## factorplot and FacetGrid\n",
    "\n",
    "One of the most powerful features of Seaborn is the ability to easily build conditional plots; this let's us see what the data look like when segmented by one or more variables. The easiest way to do this is thorugh factorplot. Let's say that we're interested in how cars' MPG has varied over time. Not only can we easily see this in aggregate:"
   ]
  },
  {
   "cell_type": "code",
   "execution_count": null,
   "metadata": {
    "collapsed": false
   },
   "outputs": [],
   "source": [
    "sns.factorplot(data=df, x=\"model_year\", y=\"mpg\")"
   ]
  },
  {
   "cell_type": "code",
   "execution_count": null,
   "metadata": {
    "collapsed": false
   },
   "outputs": [],
   "source": [
    "# other kind={point, bar, count, box, violin, strip}\n",
    "sns.factorplot(data=df, x=\"model_year\", y=\"mpg\", kind='box')"
   ]
  },
  {
   "cell_type": "markdown",
   "metadata": {},
   "source": [
    "But we can also segment by, say, region of origin:"
   ]
  },
  {
   "cell_type": "code",
   "execution_count": null,
   "metadata": {
    "collapsed": false
   },
   "outputs": [],
   "source": [
    "sns.factorplot(data=df, x=\"model_year\", y=\"mpg\", col=\"origin\")"
   ]
  },
  {
   "cell_type": "markdown",
   "metadata": {},
   "source": [
    "What's so great factorplot is that rather than having to segment the data ourselves and make the conditional plots individually, Seaborn provides a convenient Application Programming Interface (API) for doing it all at once.\n",
    "\n",
    "The **FacetGrid** object is a slightly more complex, but also more powerful, take on the same idea. Let's say that we wanted to see KDE plots of the MPG distributions, separated by country of origin:"
   ]
  },
  {
   "cell_type": "code",
   "execution_count": null,
   "metadata": {
    "collapsed": false
   },
   "outputs": [],
   "source": [
    "sns.factorplot(\"cylinders\", data=df, col=\"origin\", kind='bar')"
   ]
  },
  {
   "cell_type": "code",
   "execution_count": null,
   "metadata": {
    "collapsed": false
   },
   "outputs": [],
   "source": [
    "g = sns.FacetGrid(df, col=\"origin\")\n",
    "g.map(sns.distplot, \"mpg\")"
   ]
  },
  {
   "cell_type": "markdown",
   "metadata": {},
   "source": [
    "Or let's say that we wanted to see scatter plots of MPG against horsepower with the same origin segmentation:"
   ]
  },
  {
   "cell_type": "code",
   "execution_count": null,
   "metadata": {
    "collapsed": false
   },
   "outputs": [],
   "source": [
    "g = sns.FacetGrid(df, col=\"origin\")\n",
    "g.map(plt.scatter, \"horsepower\", \"mpg\")"
   ]
  },
  {
   "cell_type": "markdown",
   "metadata": {},
   "source": [
    "Using **FacetGrid**, we can map any plotting function onto each segment of our data. For example, above we gave `plt.scatter` to g.map, which tells Seaborn to apply the matplotlib `plt.scatter` function to each of segments in our data. We don't need to use `plt.scatter`, though; we can use any function that understands the input data. For example, we could draw regression plots instead:"
   ]
  },
  {
   "cell_type": "code",
   "execution_count": null,
   "metadata": {
    "collapsed": false
   },
   "outputs": [],
   "source": [
    "g = sns.FacetGrid(df, col=\"origin\")\n",
    "g.map(sns.regplot, \"horsepower\", \"mpg\")\n",
    "plt.xlim(0, 250)\n",
    "plt.ylim(0, 60)"
   ]
  },
  {
   "cell_type": "markdown",
   "metadata": {},
   "source": [
    "We can even segment by multiple variables at once, spreading some along the rows and some along the columns. This is very useful for producing comparing conditional distributions across interacting segmentations:"
   ]
  },
  {
   "cell_type": "code",
   "execution_count": null,
   "metadata": {
    "collapsed": false
   },
   "outputs": [],
   "source": [
    "df['tons'] = (df.weight/2000).astype(int)\n",
    "g = sns.FacetGrid(df, col=\"origin\", row=\"tons\")\n",
    "g.map(sns.kdeplot, \"horsepower\", \"mpg\")\n",
    "plt.xlim(0, 250)\n",
    "plt.ylim(0, 60)"
   ]
  },
  {
   "cell_type": "code",
   "execution_count": null,
   "metadata": {
    "collapsed": false
   },
   "outputs": [],
   "source": [
    "g = sns.FacetGrid(df, col=\"origin\", row=\"tons\")\n",
    "g.map(plt.hist, \"mpg\", bins=np.linspace(0, 50, 11))"
   ]
  },
  {
   "cell_type": "markdown",
   "metadata": {},
   "source": [
    "## pairplot and PairGrid"
   ]
  },
  {
   "cell_type": "markdown",
   "metadata": {},
   "source": [
    "While **factorplot** and **FacetGrid** are for drawing conditional plots of segmented data, pairplot and PairGrid are for showing the interactions between variables. For our car data set, we know that MPG, horsepower, and weight are probably going to be related; we also know that both these variable values and their relationships with one another, might vary by country of origin. Let's visualize all of that at once:"
   ]
  },
  {
   "cell_type": "code",
   "execution_count": null,
   "metadata": {
    "collapsed": false
   },
   "outputs": [],
   "source": [
    "g = sns.pairplot(df[[\"mpg\", \"horsepower\", \"weight\", \"origin\"]], hue=\"origin\", diag_kind=\"hist\")\n",
    "for ax in g.axes.flat:\n",
    "    plt.setp(ax.get_xticklabels(), rotation=45)"
   ]
  },
  {
   "cell_type": "code",
   "execution_count": null,
   "metadata": {
    "collapsed": false,
    "scrolled": false
   },
   "outputs": [],
   "source": [
    "g = sns.PairGrid(df[[\"mpg\", \"horsepower\", \"weight\", \"origin\"]], hue=\"origin\")\n",
    "g.map_upper(sns.regplot)\n",
    "g.map_lower(sns.residplot)\n",
    "g.map_diag(plt.hist)\n",
    "for ax in g.axes.flat:\n",
    "    plt.setp(ax.get_xticklabels(), rotation=45)\n",
    "g.add_legend()\n",
    "g.set(alpha=0.5)"
   ]
  },
  {
   "cell_type": "markdown",
   "metadata": {},
   "source": [
    "We were able to control three regions (the diagonal, the lower-left triangle, and the upper-right triangle) separately. Again, you can pipe in any plotting function that understands the data it's given."
   ]
  },
  {
   "cell_type": "markdown",
   "metadata": {},
   "source": [
    "## jointplot and JointGrid\n",
    "\n",
    "The final Seaborn objects are jointplot and JointGrid; these features let you easily view both a joint distribution and its marginals at once. Let's say, for example, that aside from being interested in how MPG and horsepower are distributed individually, we're also interested in their joint distribution:"
   ]
  },
  {
   "cell_type": "code",
   "execution_count": null,
   "metadata": {
    "collapsed": false
   },
   "outputs": [],
   "source": [
    "sns.jointplot(\"mpg\", \"horsepower\", data=df, kind='kde')"
   ]
  },
  {
   "cell_type": "code",
   "execution_count": null,
   "metadata": {
    "collapsed": false
   },
   "outputs": [],
   "source": [
    "sns.jointplot(\"horsepower\", \"mpg\", data=df, kind=\"reg\")"
   ]
  },
  {
   "cell_type": "markdown",
   "metadata": {},
   "source": [
    "As before, JointGrid gives you a bit more control by letting you map the marginal and joint data separately. For example:"
   ]
  },
  {
   "cell_type": "code",
   "execution_count": null,
   "metadata": {
    "collapsed": false
   },
   "outputs": [],
   "source": [
    "g = sns.JointGrid(x=\"horsepower\", y=\"mpg\", data=df)\n",
    "g.plot_joint(sns.regplot, order=2)\n",
    "g.plot_marginals(sns.distplot)"
   ]
  },
  {
   "cell_type": "markdown",
   "metadata": {},
   "source": [
    "## Summary\n",
    "\n",
    "Seaborn is a great Python visualization library, and some of its most powerful features are:\n",
    "\n",
    "- [factorplot](http://stanford.edu/~mwaskom/software/seaborn/generated/seaborn.factorplot.html) and [FacetGrid](http://stanford.edu/~mwaskom/software/seaborn/generated/seaborn.FacetGrid.html#seaborn.FacetGrid),\n",
    "- [pairplot](http://stanford.edu/~mwaskom/software/seaborn/generated/seaborn.pairplot.html) and [PairGrid](http://stanford.edu/~mwaskom/software/seaborn/generated/seaborn.PairGrid.html#seaborn.PairGrid),\n",
    "- [jointplot](http://stanford.edu/~mwaskom/software/seaborn/generated/seaborn.jointplot.html) and [JointGrid](http://stanford.edu/~mwaskom/software/seaborn/generated/seaborn.JointGrid.html#seaborn.JointGrid)\n",
    "\n",
    "The official Seaborn [tutorial](http://stanford.edu/~mwaskom/software/seaborn/tutorial.html) is a great place to start learning about simpler, but also extremely useful, functions such as distplot, regplot, and the other component functions we used above. "
   ]
  }
 ],
 "metadata": {
  "kernelspec": {
   "display_name": "Python 3",
   "language": "python",
   "name": "python3"
  },
  "language_info": {
   "codemirror_mode": {
    "name": "ipython",
    "version": 3
   },
   "file_extension": ".py",
   "mimetype": "text/x-python",
   "name": "python",
   "nbconvert_exporter": "python",
   "pygments_lexer": "ipython3",
   "version": "3.6.0"
  }
 },
 "nbformat": 4,
 "nbformat_minor": 0
}
