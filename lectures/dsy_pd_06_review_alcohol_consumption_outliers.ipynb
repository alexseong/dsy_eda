{
 "cells": [
  {
   "cell_type": "markdown",
   "metadata": {},
   "source": [
    "# ALCOHOL CONSUMPTION OUTLIERS"
   ]
  },
  {
   "cell_type": "code",
   "execution_count": null,
   "metadata": {
    "collapsed": true
   },
   "outputs": [],
   "source": [
    "%matplotlib inline"
   ]
  },
  {
   "cell_type": "code",
   "execution_count": null,
   "metadata": {
    "collapsed": true
   },
   "outputs": [],
   "source": [
    "import pandas as pd"
   ]
  },
  {
   "cell_type": "code",
   "execution_count": null,
   "metadata": {
    "collapsed": true
   },
   "outputs": [],
   "source": [
    "drinks = pd.read_csv('../data/drinks.csv')\n",
    "drinks.columns = ['country', 'beer', 'spirit', 'wine', 'litres', 'continent']"
   ]
  },
  {
   "cell_type": "code",
   "execution_count": null,
   "metadata": {
    "collapsed": false
   },
   "outputs": [],
   "source": [
    "drinks.head()"
   ]
  },
  {
   "cell_type": "code",
   "execution_count": null,
   "metadata": {
    "collapsed": false
   },
   "outputs": [],
   "source": [
    "drinks.describe()"
   ]
  },
  {
   "cell_type": "markdown",
   "metadata": {},
   "source": [
    "## Inter-Quartile Range\n",
    "\n",
    "While the range quantifies the variability by looking at the range covered by ALL the data, the IQR measures the variability of a distribution by giving us the range covered by the MIDDLE 50% of the data.\n",
    "\n",
    "The following picture illustrates this idea: (Think about the horizontal line as the data ranging from the min to the max).\n",
    "\n",
    "<img src='./IQR_images/whisker-1.gif' />\n",
    "\n",
    "\n",
    "A horizontal line representing all of the data. The entire line represents the range of the data, and the leftmost point is the minimum data point. The rightmost point is the maximum data point. 25% of the range spanning the area between the leftmost point and 1/4 of the line from the leftmost point is labeled the Bottom 25% of the data. The area from the 1/4 point to the 3/4 point is labeled the middle 50% of the data. This is where the IQR is calculated. Indeed, the middle 50% represents half of the line. The rest of the line, the remaining 1/4 from the 3/4 point to the rightmost point, is the top 25% of the data.\n",
    "\n",
    "Here is how the IQR is actually found:\n",
    "\n",
    "__STEP 1__: Arrange the data in increasing order, and find the median M. Recall that the median divides the data, so that 50% of the data points are below the median, and 50% of the data points are above the median.\n",
    "\n",
    "<img src='./IQR_images/whisker-2.gif' />\n",
    "\n",
    "A line representing the range of the data. Once again, the leftmost point is the minimum, and the rightmost point is the maximum. At the middle is M, the median. All of the line to the left of M is the bottom 50% of the data, and all of the line to the right of M is the top 50% of the data.\n",
    "\n",
    "__STEP 2__: Find the median of the lower 50% of the data. This is called the first quartile of the distribution, and the point is denoted by Q1. Note from the picture that Q1 divides the lower 50% of the data into two halves, containing 25% of the data points in each half. Q1 is called the first quartile, since one quarter of the data points fall below it.\n",
    "\n",
    "<img src='./IQR_images/whisker-3.gif' />\n",
    "\n",
    "The same line as the image above, except the bottom 50% has been split in half at the median of all the data in the bottom 50%.  This median is Q1. To the left of Q1 is 25% of the data. This is between the minimum point and Q1. On the other side of Q1 is another 25% of the data. This is from Q1 to M. Together these two 25% sections make up the bottom 50% of the data. To the right of M is the top 50% of the data, so in total, to the right of Q1 is 75% of the data.\n",
    "\n",
    "__STEP 3__: Repeat this again for the top 50% of the data. Find the median of the top 50% of the data. This point is called the third quartile of the distribution, and is denoted by Q3. Note from the picture that Q3 divides the top 50% of the data into two halves, with 25% of the data points in each. Q3 is called the third quartile, since three quarters of the data points fall below it.\n",
    "\n",
    "<img src='./IQR_images/whisker-4.gif' />\n",
    "\n",
    "The same line as the image above, except the top 50% has been split in half at the median of all the data in the top 50%. This median is Q3. To the left of Q3 is 25% of the data, between M and Q3. On the other side of Q3 is another 25% of the data. This is from Q3 to the maximum point. Together these two 25% sections make up the top 50% of the data. To the left of M is the bottom 50% of the data, so in total, to the left of Q3 is 75% of the data.\n",
    "\n",
    "__STEP 4__: The middle 50% of the data falls between Q1 and Q3, and therefore:\n",
    "\n",
    "<img src='./IQR_images/whisker-5.gif' />\n",
    "\n",
    "IQR = Q3 - Q1\n",
    "\n",
    "A line representing the range of the data. The leftmost point is the minimum point and the rightmost point is the maximum point. 25% of the line starting at the minimum point is the area to the left of Q1. To the right of Q1, going another 25% of the line brings us to M. Going right another 25% brings us to Q3, and the last 25% brings us to the maximum point. The line segment between Q1 and Q3 is the middle 50% of the data, which is used to calculate IQR = Q3-Q1."
   ]
  },
  {
   "cell_type": "markdown",
   "metadata": {},
   "source": [
    "## Using the IQR to Detect Outliers\n",
    "\n",
    "So far we have quantified the idea of center, and we are in the middle of the discussion about measuring spread, but we haven't really talked about a method or rule that will help us classify extreme observations as outliers. The IQR is used as the basis for a rule of thumb for identifying outliers.\n",
    "\n",
    "### The 1.5(IQR) Criterion for Outliers\n",
    "\n",
    "An observation is considered a suspected outlier if it is:\n",
    "\n",
    "- below Q1 - 1.5(IQR) or\n",
    "- above Q3 + 1.5(IQR)\n",
    "\n",
    "The following picture illustrates this rule:\n",
    "\n",
    "A line representing all of the data. The data is ordered so that the minimum point is the leftmost on the line and the maximum point is the rightmost. At the center of the line is M, the median, and to the left of M is Q1. Even farther to the left of Q1 is Q1-1.5(IQR). Points farther left than this are suspected outliers. To the right of M is Q3, and farther to the right is Q3+1.5(IQR). Points even father than this are also suspected outliers.\n",
    "\n",
    "<img src='IQR_images/whisker-6.gif' />\n"
   ]
  },
  {
   "cell_type": "code",
   "execution_count": null,
   "metadata": {
    "collapsed": false
   },
   "outputs": [],
   "source": [
    "def calculate_outlier_thresholds(dstats):\n",
    "    percentile25 = dstats['25%']\n",
    "    percentile50 = dstats['50%']\n",
    "    percentile75 = dstats['75%']\n",
    "    IQR = percentile75 - percentile50\n",
    "    above_threshold_outlier = percentile75 + (1.5*IQR)\n",
    "    below_threshold_outlier = percentile25 - (1.5*IQR)\n",
    "    return (below_threshold_outlier, above_threshold_outlier)"
   ]
  },
  {
   "cell_type": "code",
   "execution_count": null,
   "metadata": {
    "collapsed": false
   },
   "outputs": [],
   "source": [
    "# Wine Outliers\n",
    "dstats = dict(drinks.wine.describe())\n",
    "bto1, ato1 = calculate_outlier_thresholds(dstats)\n",
    "print (bto1, ato1)\n",
    "\n",
    "# Spirit Outliers\n",
    "dstats = dict(drinks.spirit.describe())\n",
    "bto2, ato2 = calculate_outlier_thresholds(dstats)\n",
    "print (bto2, ato2)\n",
    "\n",
    "# Beer Outliers\n",
    "dstats = dict(drinks.beer.describe())\n",
    "bto3, ato3 = calculate_outlier_thresholds(dstats)\n",
    "print (bto3, ato3)"
   ]
  },
  {
   "cell_type": "code",
   "execution_count": null,
   "metadata": {
    "collapsed": false
   },
   "outputs": [],
   "source": [
    "drinks.plot(kind='box')"
   ]
  },
  {
   "cell_type": "code",
   "execution_count": null,
   "metadata": {
    "collapsed": false
   },
   "outputs": [],
   "source": [
    "drinks[drinks.wine > ato1]"
   ]
  },
  {
   "cell_type": "markdown",
   "metadata": {},
   "source": [
    "### REFERENCES\n",
    "\n",
    "- [IQR and Outliers](http://frewin.weebly.com/ap-statistics-numerical-measures-part-3.html)"
   ]
  }
 ],
 "metadata": {
  "kernelspec": {
   "display_name": "Python 3",
   "language": "python",
   "name": "python3"
  },
  "language_info": {
   "codemirror_mode": {
    "name": "ipython",
    "version": 3
   },
   "file_extension": ".py",
   "mimetype": "text/x-python",
   "name": "python",
   "nbconvert_exporter": "python",
   "pygments_lexer": "ipython3",
   "version": "3.6.0"
  }
 },
 "nbformat": 4,
 "nbformat_minor": 1
}
